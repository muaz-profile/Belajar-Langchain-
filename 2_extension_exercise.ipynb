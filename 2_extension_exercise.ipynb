{
 "cells": [
  {
   "cell_type": "markdown",
   "metadata": {},
   "source": [
    "## 1. Buat contoh sendiri implementasi Memory dan Chain\n",
    "\n",
    "### TODO:"
   ]
  },
  {
   "cell_type": "markdown",
   "metadata": {},
   "source": [
    "## 2. Kembangkan simple local vectorstore menggunakan FAISS, dengan sumber data yang bisa di ambil di website\n",
    "\n",
    "### TODO:"
   ]
  },
  {
   "cell_type": "markdown",
   "metadata": {},
   "source": [
    "## 3. Buat contoh penerapan embedding menggunakan huggingface\n",
    "\n",
    "### TODO:"
   ]
  },
  {
   "cell_type": "markdown",
   "metadata": {},
   "source": []
  },
  {
   "cell_type": "markdown",
   "metadata": {},
   "source": []
  }
 ],
 "metadata": {
  "language_info": {
   "name": "python"
  }
 },
 "nbformat": 4,
 "nbformat_minor": 2
}
